{
 "cells": [
  {
   "cell_type": "code",
   "execution_count": 268,
   "metadata": {},
   "outputs": [],
   "source": [
    "import pandas as pd\n",
    "import numpy as np"
   ]
  },
  {
   "cell_type": "code",
   "execution_count": 269,
   "metadata": {},
   "outputs": [],
   "source": [
    "meta_file_path = './enterobase_meta.tsv'\n",
    "allele_file_path = './enterobase_allele.tsv'"
   ]
  },
  {
   "cell_type": "code",
   "execution_count": 270,
   "metadata": {},
   "outputs": [],
   "source": [
    "def balance_dataset(X, y, upsample=True):\n",
    "    \"\"\"\n",
    "    Balance the dataset by either upsampling or downsampling.\n",
    "\n",
    "    Parameters:\n",
    "    - X: Features\n",
    "    - y: Labels\n",
    "    - upsample: If True, perform upsampling; if False, perform downsampling\n",
    "\n",
    "    Returns:\n",
    "    - X_balanced: Balanced features\n",
    "    - y_balanced: Balanced labels\n",
    "    \"\"\"\n",
    "    # Combine features and labels\n",
    "    data = list(zip(X, y))\n",
    "\n",
    "    # Find the class with the maximum and minimum number of examples\n",
    "    class_counts = {label: data.count((X_i, label)) for X_i, label in data}\n",
    "    max_class_count = max(class_counts.values())\n",
    "    min_class_count = min(class_counts.values())\n",
    "\n",
    "    # Separate data by class\n",
    "    class_data = {label: [X_i for X_i, label_i in data if label_i == label] for label in set(y)}\n",
    "\n",
    "    # Upsample or downsample each class\n",
    "    balanced_data = []\n",
    "    for label in class_data:\n",
    "        if upsample:\n",
    "            # Upsample by repeating examples\n",
    "            class_data[label] = resample(class_data[label], n_samples=max_class_count, replace=True)\n",
    "        else:\n",
    "            # Downsample by randomly removing examples\n",
    "            class_data[label] = resample(class_data[label], n_samples=min_class_count, replace=False)\n",
    "\n",
    "        # Add balanced data to the final list\n",
    "        balanced_data.extend([(X_i, label) for X_i in class_data[label]])\n",
    "\n",
    "    # Shuffle the balanced data\n",
    "    balanced_data = resample(balanced_data, n_samples=len(balanced_data), replace=False)\n",
    "\n",
    "    # Separate features and labels again\n",
    "    X_balanced, y_balanced = zip(*balanced_data)\n",
    "\n",
    "    return X_balanced, y_balanced\n"
   ]
  },
  {
   "cell_type": "code",
   "execution_count": 271,
   "metadata": {},
   "outputs": [
    {
     "name": "stderr",
     "output_type": "stream",
     "text": [
      "/tmp/ipykernel_16196/370884712.py:2: DtypeWarning: Columns (3,18,46,47,50,51,61,65,79,80,83,84,85,117,120,135,147,152,154,173,175,200,203,213,215,216,227,228,241,246,250,285,286,296,302,303,311,315,321,333,337,349,365,371,372,383,384,390,393,409,413,422,423,434,470,471,476,479,491,498,500,503,508,511,567,580,599,603,608,613,633,643,646,658,659,664,668,669,676,681,692,700,702,704,710,714,721,722,727,742,747,748,750,759,764,765,771,772,777,781,788,789,791,797,798,799,800,803,815,817,818,831,836,839,847,849,852,857,858,862,863,864,871,879,880,890,893,895,901,903,923,926,940,942,957,967,974,980,1016,1028,1032,1035,1050,1059,1063,1067,1084,1088,1089,1094,1105,1106,1115,1117,1118,1123,1124,1141,1142,1143,1149,1158,1162,1174,1175,1177,1182,1189,1191,1196,1209,1210,1223,1226,1228,1231,1236,1238,1239,1244,1247,1256,1261,1269,1278,1285,1288,1293,1298,1307,1314,1323,1324,1326,1327,1332,1342,1343,1370,1378,1379,1391,1399,1401,1410,1411,1429,1450,1451,1455,1461,1465,1470,1477,1492,1496,1499,1513,1515,1516,1517,1519,1526,1529,1548,1558,1565,1575,1578,1600,1614,1623,1631,1634,1638,1645,1647,1651,1660,1672,1674,1687,1690,1701,1720,1724,1727,1733,1734,1736,1740,1741,1744,1745,1751,1755,1764,1768,1774,1777,1788,1795,1797,1798,1802,1809,1818,1822,1825,1835,1842,1846,1854,1863,1874,1875,1880,1884,1894,1896,1897,1909,1920,1921,1922,1926,1929,1934,1949,1950,1966,1971,1989,1992,2000,2001,2005,2007,2014,2019,2022,2024,2040,2053,2055,2061,2073,2075,2097,2102,2109,2113,2120,2124,2126,2129,2143,2144,2150,2151,2154,2156,2159,2171,2177,2182,2186,2193,2196,2202,2209,2214,2220,2224,2230,2233,2244,2245,2246,2251,2257,2266,2269,2272,2273,2275,2279,2290,2307,2309,2317,2318,2326,2332,2344,2357,2366,2373,2375,2376,2378,2386,2388,2396,2402,2413,2416,2427,2441,2446,2451,2461,2465,2478,2480,2487,2498,2503,2506,2508,2510,2518,2522,2528,2531,2538,2539,2549,2558,2565,2573,2578,2585,2606,2607,2617,2623,2631,2633,2651,2652,2655,2682,2684,2689,2697,2704,2707,2713,2721,2726,2728,2729,2748,2779,2781,2782,2786,2792,2797,2798,2801,2806,2808,2823,2832,2847,2850,2856,2857,2870,2871,2872,2892,2895,2907,2921,2922,2929,2935,2940,2945,2954,2975,2976,2979,2985,2987,2988,2996) have mixed types. Specify dtype option on import or set low_memory=False.\n",
      "  allele = pd.read_csv(allele_file_path, sep='\\t')\n"
     ]
    }
   ],
   "source": [
    "meta = pd.read_csv(meta_file_path, sep='\\t')\n",
    "allele = pd.read_csv(allele_file_path, sep='\\t')\n",
    "\n",
    "meta = meta[['Region', 'Serovar', 'ST']]\n",
    "allele.drop(['Name'], axis=1, inplace=True)\n",
    "allele.replace({-1:0, '-1':0, '-':0}, inplace=True) # Set instances 'no gene present' to 0"
   ]
  },
  {
   "cell_type": "code",
   "execution_count": 272,
   "metadata": {},
   "outputs": [],
   "source": [
    "province_mapping = {\n",
    "    'Alberta': 'AB',\n",
    "    'British Columbia': 'BC',\n",
    "    'Manitoba': 'MB',\n",
    "    'New Brunswick': 'NB',\n",
    "    'Newfoundland and Labrador': 'NL',\n",
    "    'Nova Scotia': 'NS',\n",
    "    'Ontario': 'ON',\n",
    "    'Prince Edward Island': 'PE',\n",
    "    'Quebec': 'QC',\n",
    "    'Saskatchewan': 'SK',\n",
    "    'Northwest Territories': 'NT',\n",
    "    'Nunavut': 'NU',\n",
    "    'Yukon': 'YT'\n",
    "}\n",
    "\n",
    "meta['Region'] = meta['Region'].replace(province_mapping)\n"
   ]
  },
  {
   "cell_type": "code",
   "execution_count": 273,
   "metadata": {},
   "outputs": [
    {
     "name": "stdout",
     "output_type": "stream",
     "text": [
      "Merged DataFrame:\n",
      "     Region                  Serovar      ST  STMMW_33831 STMMW_14121  \\\n",
      "0        BC  Enteritidis (Predicted)   32875            1           1   \n",
      "1        NB     Muenchen (Predicted)   32490            1           2   \n",
      "2        ON              Paratyphi A   32489            1           2   \n",
      "3        SK                Manhattan   32429            1           2   \n",
      "4        ON                 Kentucky  106867            1           1   \n",
      "...     ...                      ...     ...          ...         ...   \n",
      "1150     ON                        I  388328            1           1   \n",
      "1151     ON              Typhimurium  388329            1           1   \n",
      "1152     ON              Typhimurium  388327            1           1   \n",
      "1153     ON                 Muenchen  388326            1           2   \n",
      "1154     ON             4,[5],12:I:-  388325            1           1   \n",
      "\n",
      "      STMMW_00441  STMMW_10921  STMMW_11801  STMMW_36901  STMMW_30761  ...  \\\n",
      "0               1            1            1            1            1  ...   \n",
      "1               1           14            1            1           13  ...   \n",
      "2               1           88            1            1          404  ...   \n",
      "3               1            4            1            1           61  ...   \n",
      "4               1            4            1            1           74  ...   \n",
      "...           ...          ...          ...          ...          ...  ...   \n",
      "1150            1            1            1            1            1  ...   \n",
      "1151            1            1            1            1            1  ...   \n",
      "1152            1            1            1            1            1  ...   \n",
      "1153            1           14            1            1           13  ...   \n",
      "1154            1            1            1            1            1  ...   \n",
      "\n",
      "      STMMW_32691  STMMW_41811  STMMW_45291  STMMW_10771  STMMW_06681  \\\n",
      "0               7           27           26           27           27   \n",
      "1              43          580          288          625          563   \n",
      "2               5          513          327          526          538   \n",
      "3               7           67           32          555          563   \n",
      "4              47           71           37           82           81   \n",
      "...           ...          ...          ...          ...          ...   \n",
      "1150            8            1            1            1            1   \n",
      "1151            8            1            1            1            1   \n",
      "1152            8            1            1            1            1   \n",
      "1153           43          580          288          625          563   \n",
      "1154            8            1            1            1            1   \n",
      "\n",
      "      STMMW_17631  STMMW_03201  STMMW_01731  STMMW_01591 STMMW_29121  \n",
      "0              26           30           14           28           1  \n",
      "1             216          407           11          732          26  \n",
      "2             436          682          123          617           2  \n",
      "3               9          407           14          642           8  \n",
      "4              76           97            6           88          42  \n",
      "...           ...          ...          ...          ...         ...  \n",
      "1150            1            1            1           37           1  \n",
      "1151            1            1            1            1           1  \n",
      "1152            1            1            1            1           1  \n",
      "1153          216          407           11          732          26  \n",
      "1154            1            1            1           37           1  \n",
      "\n",
      "[1155 rows x 3005 columns]\n"
     ]
    }
   ],
   "source": [
    "# Left merge meta and allele dataframe on \"St\" column\n",
    "merged_df = pd.merge(meta, allele.drop_duplicates(subset='ST'), on='ST', how='left')\n",
    "\n",
    "print(\"Merged DataFrame:\")\n",
    "print(merged_df)"
   ]
  },
  {
   "cell_type": "code",
   "execution_count": 274,
   "metadata": {},
   "outputs": [],
   "source": [
    "merged_df.drop(['Serovar', 'ST'], axis=1, inplace=True)"
   ]
  },
  {
   "cell_type": "code",
   "execution_count": 275,
   "metadata": {},
   "outputs": [],
   "source": [
    "merged_df.loc[:, merged_df.columns != 'Region'] = merged_df.loc[:, merged_df.columns != 'Region'].astype(int) # Ensure all feature columns are numeric\n"
   ]
  },
  {
   "cell_type": "code",
   "execution_count": 276,
   "metadata": {},
   "outputs": [
    {
     "name": "stdout",
     "output_type": "stream",
     "text": [
      "3003\n",
      "1155\n",
      "Region\n",
      "ON    384\n",
      "QC    316\n",
      "BC    218\n",
      "MB     85\n",
      "AB     52\n",
      "SK     48\n",
      "NS     19\n",
      "PE     15\n",
      "NB     12\n",
      "NL      6\n",
      "Name: count, dtype: int64\n",
      "['NS', 'PE', 'NB', 'NL']\n",
      "     Region  STMMW_33831 STMMW_14121  STMMW_00441  STMMW_10921  STMMW_11801  \\\n",
      "0        BC            1           1            1            1            1   \n",
      "1        ON            1           2            1           88            1   \n",
      "2        SK            1           2            1            4            1   \n",
      "3        ON            1           1            1            4            1   \n",
      "4        ON            1           1            1            1            1   \n",
      "...     ...          ...         ...          ...          ...          ...   \n",
      "1098     ON            1           1            1            1            1   \n",
      "1099     ON            1           1            1            1            1   \n",
      "1100     ON            1           1            1            1            1   \n",
      "1101     ON            1           2            1           14            1   \n",
      "1102     ON            1           1            1            1            1   \n",
      "\n",
      "      STMMW_36901  STMMW_30761  STMMW_35131  STMMW_43851  ...  STMMW_17071  \\\n",
      "0               1            1            1            1  ...           27   \n",
      "1               1          404          406            1  ...          681   \n",
      "2               1           61            1          103  ...          728   \n",
      "3               1           74           76            1  ...           88   \n",
      "4               1           64           71            4  ...          301   \n",
      "...           ...          ...          ...          ...  ...          ...   \n",
      "1098            1            1            1            1  ...            1   \n",
      "1099            1            1            1            1  ...            1   \n",
      "1100            1            1            1            1  ...         6970   \n",
      "1101            1           13          465            1  ...          853   \n",
      "1102            1            1            1            1  ...            1   \n",
      "\n",
      "      STMMW_10051  STMMW_08341  STMMW_05611  STMMW_35851  STMMW_41811  \\\n",
      "0              32            5           25           25           27   \n",
      "1             737          306          486          424          513   \n",
      "2              21           58           71          437           67   \n",
      "3              96           63           73           49           71   \n",
      "4              91            1           31           69           67   \n",
      "...           ...          ...          ...          ...          ...   \n",
      "1098           11            1            1            1            1   \n",
      "1099           11            1            1            1            1   \n",
      "1100           31            1            1            1            1   \n",
      "1101          184           29          561          471          580   \n",
      "1102           11            1            1            1            1   \n",
      "\n",
      "      STMMW_45291 STMMW_10771  STMMW_03201  STMMW_29121  \n",
      "0              26          27           30            1  \n",
      "1             327         526          682            2  \n",
      "2              32         555          407            8  \n",
      "3              37          82           97           42  \n",
      "4              41          76           92           26  \n",
      "...           ...         ...          ...          ...  \n",
      "1098            1           1            1            1  \n",
      "1099            1           1            1            1  \n",
      "1100            1           1            1            1  \n",
      "1101          288         625          407           26  \n",
      "1102            1           1            1            1  \n",
      "\n",
      "[1103 rows x 2898 columns]\n"
     ]
    }
   ],
   "source": [
    "threshold_percentage = 1\n",
    "\n",
    "# Calculate the threshold value based on the percentage\n",
    "threshold_value = threshold_percentage / 100.0 * len(merged_df)\n",
    "\n",
    "# Identify columns with 5% or more of their values equal to 0\n",
    "columns_to_remove = merged_df.columns[(merged_df == 0).sum() >= threshold_value]\n",
    "\n",
    "print(merged_df.shape[1])\n",
    "# Remove identified columns from the DataFrame\n",
    "merged_df.drop(columns=columns_to_remove, inplace=True)\n",
    "print(merged_df.shape[0])\n",
    "province_counts = merged_df['Region'].value_counts()\n",
    "print(province_counts)\n",
    "\n",
    "# List of provinces to be removed\n",
    "provinces_to_remove = province_counts[province_counts < 40].index.tolist()\n",
    "\n",
    "print(provinces_to_remove)\n",
    "\n",
    "# Filter rows based on the values in the 'Region' column\n",
    "merged_df = merged_df[~merged_df['Region'].isin(provinces_to_remove)]\n",
    "merged_df.reset_index(drop=True, inplace=True)\n",
    "print(merged_df)"
   ]
  },
  {
   "cell_type": "code",
   "execution_count": 277,
   "metadata": {},
   "outputs": [],
   "source": [
    "output_file_path = './enterobase_train_filtered.csv'\n",
    "merged_df.to_csv(output_file_path, index=False)\n"
   ]
  }
 ],
 "metadata": {
  "kernelspec": {
   "display_name": "Python 3",
   "language": "python",
   "name": "python3"
  },
  "language_info": {
   "codemirror_mode": {
    "name": "ipython",
    "version": 3
   },
   "file_extension": ".py",
   "mimetype": "text/x-python",
   "name": "python",
   "nbconvert_exporter": "python",
   "pygments_lexer": "ipython3",
   "version": "3.8.18"
  }
 },
 "nbformat": 4,
 "nbformat_minor": 2
}
